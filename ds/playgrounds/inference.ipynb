{
 "cells": [
  {
   "cell_type": "markdown",
   "id": "5f33227c",
   "metadata": {},
   "source": [
    "Copyright (c) 2025 University of Michigan. All rights reserved.  \n",
    "Licensed under the MIT License. See LICENSE for license information.\n",
    "\n",
    "# Notebook for running Mask R-CNN model inference on data subset\n"
   ]
  },
  {
   "cell_type": "code",
   "execution_count": null,
   "id": "9fe84b29",
   "metadata": {},
   "outputs": [],
   "source": [
    "from glob import glob\n",
    "\n",
    "import torch\n",
    "from torchvision.transforms.functional import adjust_contrast, adjust_brightness\n",
    "\n",
    "import matplotlib.pyplot as plt\n",
    "\n",
    "from ds.datasets.db_improc import process_read_srh\n",
    "from ds.eval.inference import get_model, get_xform\n",
    "from ds.eval.common import score_threshold_with_matrix_nms, output_mask_to_images"
   ]
  },
  {
   "cell_type": "code",
   "execution_count": null,
   "id": "3387245d",
   "metadata": {},
   "outputs": [],
   "source": [
    "normalize_im = lambda x: (adjust_brightness(adjust_contrast(x, 2), 2)*255).to(torch.uint8)"
   ]
  },
  {
   "cell_type": "code",
   "execution_count": null,
   "id": "5b9ab896",
   "metadata": {},
   "outputs": [],
   "source": [
    "ckpt_path = \"/path/to/elucidate_model.ckpt\"\n",
    "classes = [\"na\", \"nuclei\",\"cyto\", \"rbc\", \"mp\"]\n",
    "\n",
    "model = get_model(ckpt_path, num_classes=len(classes))\n",
    "aug = get_xform()\n"
   ]
  },
  {
   "cell_type": "code",
   "execution_count": null,
   "id": "b01d87bc",
   "metadata": {},
   "outputs": [],
   "source": [
    "# Reading images\n",
    "image_list = [\n",
    "    \"/path/to/patch1.tif\",\n",
    "    \"/path/to/patch2.tif\"\n",
    "]\n",
    "\n",
    "# Or use glob to get all images in a directory\n",
    "#image_list = glob(\"/path/to/patches/*.tif\")\n",
    "\n",
    "# Preprocess images\n",
    "raw_ims = [process_read_srh(i) for i in image_list]\n",
    "ims = [aug(i, {})[0] for i in raw_ims]"
   ]
  },
  {
   "cell_type": "code",
   "execution_count": null,
   "id": "68390171",
   "metadata": {},
   "outputs": [],
   "source": [
    "# Inference on image\n",
    "results = []\n",
    "with torch.inference_mode():\n",
    "    for im_b in torch.split(torch.stack(ims), 16):\n",
    "        results_i = model(im_b.to(\"cuda\"))\n",
    "        results.extend([{k: j[k].detach().to(\"cpu\") for k in j} for j in results_i])\n",
    "\n",
    "results = [\n",
    "    score_threshold_with_matrix_nms(r, confidence_threshold=0.50)\n",
    "    for r in results\n",
    "]"
   ]
  },
  {
   "cell_type": "code",
   "execution_count": null,
   "id": "eaf3636c",
   "metadata": {},
   "outputs": [],
   "source": [
    "# Visualization\n",
    "mask_box_images = [\n",
    "    output_mask_to_images(normalize_im(ims[i]),\n",
    "                          results[i][\"masks\"],\n",
    "                          results[i][\"boxes\"])\n",
    "    for i in range(len(ims))\n",
    "]\n",
    "mask_img = [i[0].permute(1, 2, 0) for i in mask_box_images]\n",
    "box_img = [i[1].permute(1, 2, 0) for i in mask_box_images]"
   ]
  },
  {
   "cell_type": "code",
   "execution_count": null,
   "id": "f880dc0c",
   "metadata": {
    "scrolled": true
   },
   "outputs": [],
   "source": [
    "# Show images\n",
    "for im, i, j in zip(ims, mask_img, box_img):\n",
    "    fig, (ax0, ax1, ax2) = plt.subplots(1, 3, figsize=(12,4))\n",
    "    ax0.imshow(normalize_im(im).permute(1, 2, 0))\n",
    "    ax1.imshow(i)\n",
    "    ax2.imshow(j)\n",
    "    for ax in (ax0, ax1, ax2): ax.axis(\"off\")\n",
    "    fig.tight_layout()"
   ]
  },
  {
   "cell_type": "code",
   "execution_count": null,
   "id": "03af7e30",
   "metadata": {},
   "outputs": [],
   "source": []
  }
 ],
 "metadata": {
  "kernelspec": {
   "display_name": "ds_release",
   "language": "python",
   "name": "ds_release"
  },
  "language_info": {
   "codemirror_mode": {
    "name": "ipython",
    "version": 3
   },
   "file_extension": ".py",
   "mimetype": "text/x-python",
   "name": "python",
   "nbconvert_exporter": "python",
   "pygments_lexer": "ipython3",
   "version": "3.10.16"
  }
 },
 "nbformat": 4,
 "nbformat_minor": 5
}
